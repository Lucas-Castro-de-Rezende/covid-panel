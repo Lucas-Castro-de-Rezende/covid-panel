{
 "cells": [
  {
   "cell_type": "code",
   "execution_count": 1,
   "id": "cc7d89a3-cd1a-4d55-b02d-0e312aa27268",
   "metadata": {},
   "outputs": [],
   "source": [
    "import pandas as pd"
   ]
  },
  {
   "cell_type": "raw",
   "id": "fd4e46d1-6dc4-4c52-80de-6167c4601654",
   "metadata": {},
   "source": [
    "1 - Liste em, ordem alfabética, as cidades do estado com mais de N casos de covid'"
   ]
  },
  {
   "cell_type": "code",
   "execution_count": 28,
   "id": "b29a0e8b-f2b6-4bea-ba7a-5072574c2086",
   "metadata": {},
   "outputs": [
    {
     "name": "stdin",
     "output_type": "stream",
     "text": [
      "Número de casos: 1\n"
     ]
    }
   ],
   "source": [
    "covid_data = pd.read_csv(\"data/MICRODADOS.csv\", encoding = \"latin-1\", on_bad_lines='skip', delimiter=\";\")\n",
    "N = int(input(\"Número de casos:\"))"
   ]
  },
  {
   "cell_type": "code",
   "execution_count": 30,
   "id": "db5f54fd-f3f8-4c0d-a57c-7f4c4a1188cb",
   "metadata": {},
   "outputs": [
    {
     "data": {
      "text/plain": [
       "VITORIA             55684\n",
       "SERRA               55124\n",
       "VILA VELHA          50828\n",
       "CARIACICA           33029\n",
       "LINHARES            24944\n",
       "                    ...  \n",
       "ILHABELA                1\n",
       "IGARACU DO TIETE        1\n",
       "ICAPUI                  1\n",
       "IBIUNA                  1\n",
       "ZE DOCA                 1\n",
       "Name: Municipio, Length: 672, dtype: int64"
      ]
     },
     "execution_count": 30,
     "metadata": {},
     "output_type": "execute_result"
    }
   ],
   "source": [
    "city_cases = covid_data[\"Municipio\"].value_counts()\n",
    "mask_city = city_cases >= N\n",
    "city_high_risk = city_cases[mask_city]\n",
    "city_high_risk.sort_index(ascending=True).sort_values(ascending=False)"
   ]
  },
  {
   "cell_type": "raw",
   "id": "69ce0d1b-8054-465b-9077-1f8aea7f7617",
   "metadata": {},
   "source": [
    "2 - Determine quantos casos de Covid-19 foram diagnosticados entre as datas d1 e d2, na qual d1 será sempre menor que d2"
   ]
  },
  {
   "cell_type": "code",
   "execution_count": null,
   "id": "8b0b4155-1a6b-4f73-8807-eb63caf6a809",
   "metadata": {},
   "outputs": [],
   "source": []
  },
  {
   "cell_type": "raw",
   "id": "f185535b-56e7-4a1c-8efa-ea3367a07c76",
   "metadata": {},
   "source": [
    "3 - Liste as cidades top N de casos de covid entre a data d1 e d2, na qual d1 será sempre menor que d2. A saída deverá ser ordenada em ordem decrescente por número de casos"
   ]
  },
  {
   "cell_type": "code",
   "execution_count": null,
   "id": "e4c23880-ecfe-4001-b4a3-bd8c81ad15c1",
   "metadata": {},
   "outputs": [],
   "source": []
  },
  {
   "cell_type": "raw",
   "id": "8198d6a8-fbfa-4dc0-9955-1f8817b34e90",
   "metadata": {},
   "source": [
    "4 - Determine a % de pessoas confirmadas que ficaram internadas, % de pessoas que morreram e a % de pessoas internadas que morreram, de um dado município ou de todas as cidades."
   ]
  },
  {
   "cell_type": "code",
   "execution_count": null,
   "id": "2f5abe2d-cb29-4eaf-b742-7b4768aad470",
   "metadata": {},
   "outputs": [],
   "source": []
  },
  {
   "cell_type": "raw",
   "id": "17dc9b28-470f-46eb-9afb-e999a9438daa",
   "metadata": {},
   "source": [
    "5 - Determinar a média e desvio padrão da idade das pessoas que morreram e a % de pessoas que morreram e não possuíam nenhuma comorbidade​ entre a data d1 e d2 na qual d1 será sempre menor que d2."
   ]
  },
  {
   "cell_type": "code",
   "execution_count": null,
   "id": "fafda4c3-d57c-4616-bcf3-58cc7d2f0ac6",
   "metadata": {},
   "outputs": [],
   "source": []
  }
 ],
 "metadata": {
  "kernelspec": {
   "display_name": "Python 3 (ipykernel)",
   "language": "python",
   "name": "python3"
  },
  "language_info": {
   "codemirror_mode": {
    "name": "ipython",
    "version": 3
   },
   "file_extension": ".py",
   "mimetype": "text/x-python",
   "name": "python",
   "nbconvert_exporter": "python",
   "pygments_lexer": "ipython3",
   "version": "3.9.7"
  }
 },
 "nbformat": 4,
 "nbformat_minor": 5
}
